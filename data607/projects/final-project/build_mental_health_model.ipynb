{
  "cells": [
    {
      "cell_type": "markdown",
      "metadata": {
        "id": "P1qelczgffrg"
      },
      "source": [
        "# 1. Starting with Imports"
      ]
    },
    {
      "cell_type": "code",
      "execution_count": null,
      "metadata": {},
      "outputs": [],
      "source": [
        "# Importing pandas and fastai\n",
        "from fastai.text.all import *\n",
        "import pandas as pd\n",
        "\n",
        "# Importing torch and verifying that we're using my GPU\n",
        "import os\n",
        "import torch\n",
        "\n",
        "print(f\"torch version:\\t{torch.version.cuda}\")\n",
        "\n",
        "os.environ[\"CUDA_DEVICE_ORDER\"] = \"PCI_BUS_ID\"\n",
        "os.environ[\"CUDA_VISIBLE_DEVICES\"] = \"0\"\n",
        "\n",
        "if torch.cuda.is_available():\n",
        "    print(f\"GPU Selected:\\t{torch.cuda.get_device_name(0)}\")"
      ]
    },
    {
      "cell_type": "markdown",
      "metadata": {
        "id": "hBXVQwRIfpXn"
      },
      "source": [
        "# 2. Loading and inspecting our Data"
      ]
    },
    {
      "cell_type": "code",
      "execution_count": null,
      "metadata": {
        "id": "cxX_ktpje7Ni"
      },
      "outputs": [],
      "source": [
        "# Set the URL where the data is\n",
        "url = 'https://raw.githubusercontent.com/riverar9/cuny-msds/main/data607/projects/final-project/data-mental-health-corpus/mental_health.csv'"
      ]
    },
    {
      "cell_type": "code",
      "execution_count": null,
      "metadata": {
        "colab": {
          "base_uri": "https://localhost:8080/",
          "height": 380
        },
        "id": "UdjYRORcfsJx",
        "outputId": "0a28257c-735b-498c-b177-30aa10ca5ec8"
      },
      "outputs": [],
      "source": [
        "# Read the data into a regular pandas dataframe\n",
        "df = pd.read_csv(url)\n",
        "df.head()"
      ]
    },
    {
      "cell_type": "code",
      "execution_count": null,
      "metadata": {
        "colab": {
          "base_uri": "https://localhost:8080/"
        },
        "id": "bpj85pbILEfl",
        "outputId": "eefd2cc9-25d4-4055-a20b-5a23d0e87d8f"
      },
      "outputs": [],
      "source": [
        "# Take a look at summary stats for our label metrics\n",
        "df['label'].value_counts(\n",
        "    normalize = True\n",
        ")*100"
      ]
    },
    {
      "cell_type": "markdown",
      "metadata": {
        "id": "dtTdwwUmNl4_"
      },
      "source": [
        "From here we can see that the dataset is pretty closely split in half."
      ]
    },
    {
      "cell_type": "markdown",
      "metadata": {
        "id": "lxESFIAWJZgP"
      },
      "source": [
        "# 3. Loading the data into a data loader"
      ]
    },
    {
      "cell_type": "code",
      "execution_count": null,
      "metadata": {
        "colab": {
          "base_uri": "https://localhost:8080/",
          "height": 17
        },
        "id": "Bpc2YBdAIawr",
        "outputId": "4255c10a-83cb-421a-ff5e-4873975ca393"
      },
      "outputs": [],
      "source": [
        "dls = TextDataLoaders.from_df(\n",
        "    df,\n",
        "    valid_pct = 0.2\n",
        ")"
      ]
    },
    {
      "cell_type": "code",
      "execution_count": null,
      "metadata": {
        "colab": {
          "base_uri": "https://localhost:8080/",
          "height": 1000
        },
        "id": "bPGESI3nIaqO",
        "outputId": "07e66f36-734e-4f74-d148-65b3c6a07e27"
      },
      "outputs": [],
      "source": [
        "# Show a few entries\n",
        "dls.show_batch(max_n = 2)"
      ]
    },
    {
      "cell_type": "code",
      "execution_count": null,
      "metadata": {
        "colab": {
          "base_uri": "https://localhost:8080/",
          "height": 37
        },
        "id": "t2tGt5h6IaiV",
        "outputId": "0c7b4f34-baaa-4d11-d107-4e7c850159a9"
      },
      "outputs": [],
      "source": [
        "# Set up our learner\n",
        "learn = text_classifier_learner(\n",
        "  dls\n",
        "  , AWD_LSTM\n",
        "  , drop_mult=0.5\n",
        "  , metrics=accuracy\n",
        ")"
      ]
    },
    {
      "cell_type": "code",
      "execution_count": null,
      "metadata": {
        "colab": {
          "base_uri": "https://localhost:8080/",
          "height": 239
        },
        "id": "ExIthdS-Iab4",
        "outputId": "c7fb5fe4-87d7-43e3-992f-1db889287b61"
      },
      "outputs": [],
      "source": [
        "# Start the learning process.\n",
        "learn.fine_tune(3, 1e-2)"
      ]
    },
    {
      "cell_type": "code",
      "execution_count": null,
      "metadata": {
        "colab": {
          "base_uri": "https://localhost:8080/",
          "height": 1000
        },
        "id": "oFqEMuLoIaR2",
        "outputId": "2c70848c-4fcc-494b-d2da-7a7c1bdb0e58"
      },
      "outputs": [],
      "source": [
        "# Show the data with the latest classifications\n",
        "learn.show_results(max_n = 2)"
      ]
    },
    {
      "cell_type": "markdown",
      "metadata": {},
      "source": [
        "# 4 Running some quick tests"
      ]
    },
    {
      "cell_type": "code",
      "execution_count": null,
      "metadata": {},
      "outputs": [],
      "source": [
        "# Creating a function to do pre-model processing\n",
        "import re\n",
        "\n",
        "def clean_text_input(input_text : str) -> str:\n",
        "    return re.sub(\n",
        "        r'[^a-zA-Z]'\n",
        "        , ''\n",
        "        , input_text\n",
        "    ).lower()"
      ]
    },
    {
      "cell_type": "code",
      "execution_count": null,
      "metadata": {
        "colab": {
          "base_uri": "https://localhost:8080/",
          "height": 298
        },
        "id": "715fBORkKhVG",
        "outputId": "3797ab5e-5c65-448d-b571-a929b4dd0ee5"
      },
      "outputs": [],
      "source": [
        "# Run a few test predicitons on new data\n",
        "quick_tests = [\n",
        "    \"life isn't worth living\",\n",
        "    \"It's all looking good from here!\",\n",
        "    \"I love myself\",\n",
        "    \"Tetris Effect. Unlimited replay ability. Amazing music and flow states. Psychedelic and interesting visuals. Most satisfying gameplay.\",\n",
        "    \"Oblivion. It was my introduction to the series and rpgs as a whole. There was so many things that blew my mind and I honestly think oblivion was one of the games for the time to push technological limits.\"\n",
        "]\n",
        "\n",
        "for each_test in quick_tests:\n",
        "  e_pred_positive = round(100*each_test[2][0].item(),2)\n",
        "  e_pred_negative = round(100*each_test[2][1].item(),2)\n",
        "  print(f'\"{each_test}\"\\n\\tPositive: {e_pred_positive} %\\n\\tNegative: {e_pred_negative} %')"
      ]
    },
    {
      "cell_type": "markdown",
      "metadata": {},
      "source": [
        "## Exporting the model"
      ]
    },
    {
      "cell_type": "code",
      "execution_count": null,
      "metadata": {},
      "outputs": [],
      "source": [
        "learn.export('minima/mental-health-model.pkl')"
      ]
    },
    {
      "cell_type": "code",
      "execution_count": null,
      "metadata": {},
      "outputs": [],
      "source": []
    }
  ],
  "metadata": {
    "accelerator": "GPU",
    "colab": {
      "gpuType": "T4",
      "provenance": []
    },
    "kernelspec": {
      "display_name": "Python 3",
      "name": "python3"
    },
    "language_info": {
      "codemirror_mode": {
        "name": "ipython",
        "version": 3
      },
      "file_extension": ".py",
      "mimetype": "text/x-python",
      "name": "python",
      "nbconvert_exporter": "python",
      "pygments_lexer": "ipython3",
      "version": "3.12.0"
    }
  },
  "nbformat": 4,
  "nbformat_minor": 0
}
